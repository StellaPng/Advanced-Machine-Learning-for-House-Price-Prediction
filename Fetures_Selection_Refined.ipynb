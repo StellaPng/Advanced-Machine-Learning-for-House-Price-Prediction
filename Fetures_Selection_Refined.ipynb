{
 "cells": [
  {
   "cell_type": "code",
   "execution_count": 12,
   "id": "1c63d7e9",
   "metadata": {},
   "outputs": [
    {
     "name": "stdout",
     "output_type": "stream",
     "text": [
      "Selected top10_corr_features (filtered for multicollinearity):\n",
      "OverallQual\n",
      "GrLivArea\n",
      "GarageCars\n",
      "TotalBsmtSF\n",
      "FullBath\n",
      "YearBuilt\n",
      "YearRemodAdd\n",
      "MasVnrArea\n",
      "Fireplaces\n",
      "OpenPorchSF_log\n"
     ]
    }
   ],
   "source": [
    "import pandas as pd\n",
    "\n",
    "# Load the dataset\n",
    "train = pd.read_csv(\"Engineered/train_with_engineered_features_Refined.csv\")\n",
    "\n",
    "# Vesion 1: Compute Pearson correlations with SalePrice\n",
    "corr_matrix = train.corr(numeric_only=True)\n",
    "saleprice_corr = corr_matrix['SalePrice'].drop('SalePrice').sort_values(ascending=False)\n",
    "\n",
    "# Greedy selection with multicollinearity check\n",
    "top10_corr_features = []\n",
    "correlation_threshold = 0.8\n",
    "\n",
    "for feature in saleprice_corr.index:\n",
    "    too_similar = False\n",
    "    for selected in top10_corr_features:\n",
    "        if abs(corr_matrix.loc[feature, selected]) >= correlation_threshold:\n",
    "            too_similar = True\n",
    "            break\n",
    "    if not too_similar:\n",
    "        top10_corr_features.append(feature)\n",
    "    if len(top10_corr_features) == 10:\n",
    "        break\n",
    "\n",
    "# Show final selected features\n",
    "print(\"Selected top10_corr_features (filtered for multicollinearity):\")\n",
    "for f in top10_corr_features:\n",
    "    print(f)\n"
   ]
  },
  {
   "cell_type": "code",
   "execution_count": 5,
   "id": "a74294cc",
   "metadata": {},
   "outputs": [
    {
     "name": "stdout",
     "output_type": "stream",
     "text": [
      "Saved: Engineered/train_linear_ready.csv\n"
     ]
    }
   ],
   "source": [
    "# Add SalePrice to the selected feature list\n",
    "selected_features_with_target = selected_features + ['SalePrice']\n",
    "\n",
    "# Create the final dataset\n",
    "train_linear_ready = train[selected_features_with_target]\n",
    "\n",
    "# Save to CSV\n",
    "train_linear_ready.to_csv(\"Engineered/train_linear_ready.csv\", index=False)\n",
    "print(\"Saved: Engineered/train_linear_ready.csv\")\n"
   ]
  },
  {
   "cell_type": "code",
   "execution_count": 13,
   "id": "6d4f350e",
   "metadata": {},
   "outputs": [
    {
     "name": "stdout",
     "output_type": "stream",
     "text": [
      "top10_xgb_features:\n",
      "OverallQual\n",
      "GarageCars\n",
      "KitchenAbvGr\n",
      "GrLivArea\n",
      "FullBath\n",
      "2ndFlrSF\n",
      "TotalBsmtSF\n",
      "1stFlrSF\n",
      "Fireplaces\n",
      "OpenPorchSF\n"
     ]
    }
   ],
   "source": [
    "#  Version 2: Top 10 XGBoost feature importance\n",
    "# Train an XGBoost model using default settings (n_estimators set to 100 for speed)\n",
    "from xgboost import XGBRegressor\n",
    "\n",
    "# Load engineered dataset\n",
    "train = pd.read_csv(\"Engineered/train_with_engineered_features_Refined.csv\")\n",
    "\n",
    "# Define X and y\n",
    "X = train.drop(columns=\"SalePrice\")\n",
    "y = train[\"SalePrice\"]\n",
    "\n",
    "# Drop non-numeric columns to avoid XGBoost dtype error\n",
    "X = X.select_dtypes(include=[\"int64\", \"float64\"])\n",
    "\n",
    "# Train model\n",
    "model = XGBRegressor(n_estimators=100, random_state=42)\n",
    "model.fit(X, y)\n",
    "\n",
    "# Get top 10 feature importances\n",
    "importance_df = pd.DataFrame({\n",
    "    \"feature\": X.columns,\n",
    "    \"importance\": model.feature_importances_\n",
    "}).sort_values(by=\"importance\", ascending=False)\n",
    "\n",
    "top10_xgb_features = importance_df.head(10)[\"feature\"].tolist()\n",
    "X_v2 = X[top10_xgb_features]\n",
    "\n",
    "# Show features\n",
    "print(\"top10_xgb_features:\")\n",
    "for f in top10_xgb_features:\n",
    "    print(f)\n",
    "\n"
   ]
  },
  {
   "cell_type": "code",
   "execution_count": 17,
   "id": "1d53a928",
   "metadata": {},
   "outputs": [
    {
     "name": "stdout",
     "output_type": "stream",
     "text": [
      "Saved: Engineered/train_xgb_ready.csv\n"
     ]
    }
   ],
   "source": [
    "# Add SalePrice to the selected XGBoost feature list\n",
    "xgb_features_with_target = top10_xgb_features + ['SalePrice']\n",
    "\n",
    "# Create the final XGBoost dataset\n",
    "train_xgb_ready = train[xgb_features_with_target]\n",
    "\n",
    "# Save to CSV\n",
    "train_xgb_ready.to_csv(\"Engineered/train_xgb_ready.csv\", index=False)\n",
    "print(\"Saved: Engineered/train_xgb_ready.csv\")\n"
   ]
  },
  {
   "cell_type": "code",
   "execution_count": 16,
   "id": "4de05509",
   "metadata": {},
   "outputs": [
    {
     "data": {
      "text/html": [
       "<div>\n",
       "<style scoped>\n",
       "    .dataframe tbody tr th:only-of-type {\n",
       "        vertical-align: middle;\n",
       "    }\n",
       "\n",
       "    .dataframe tbody tr th {\n",
       "        vertical-align: top;\n",
       "    }\n",
       "\n",
       "    .dataframe thead th {\n",
       "        text-align: right;\n",
       "    }\n",
       "</style>\n",
       "<table border=\"1\" class=\"dataframe\">\n",
       "  <thead>\n",
       "    <tr style=\"text-align: right;\">\n",
       "      <th></th>\n",
       "      <th>Top Pearson Features</th>\n",
       "      <th>Top XGBoost Features</th>\n",
       "    </tr>\n",
       "  </thead>\n",
       "  <tbody>\n",
       "    <tr>\n",
       "      <th>0</th>\n",
       "      <td>OverallQual</td>\n",
       "      <td>OverallQual</td>\n",
       "    </tr>\n",
       "    <tr>\n",
       "      <th>1</th>\n",
       "      <td>GrLivArea</td>\n",
       "      <td>GarageCars</td>\n",
       "    </tr>\n",
       "    <tr>\n",
       "      <th>2</th>\n",
       "      <td>GarageCars</td>\n",
       "      <td>KitchenAbvGr</td>\n",
       "    </tr>\n",
       "    <tr>\n",
       "      <th>3</th>\n",
       "      <td>TotalBsmtSF</td>\n",
       "      <td>GrLivArea</td>\n",
       "    </tr>\n",
       "    <tr>\n",
       "      <th>4</th>\n",
       "      <td>FullBath</td>\n",
       "      <td>FullBath</td>\n",
       "    </tr>\n",
       "    <tr>\n",
       "      <th>5</th>\n",
       "      <td>YearBuilt</td>\n",
       "      <td>2ndFlrSF</td>\n",
       "    </tr>\n",
       "    <tr>\n",
       "      <th>6</th>\n",
       "      <td>YearRemodAdd</td>\n",
       "      <td>TotalBsmtSF</td>\n",
       "    </tr>\n",
       "    <tr>\n",
       "      <th>7</th>\n",
       "      <td>MasVnrArea</td>\n",
       "      <td>1stFlrSF</td>\n",
       "    </tr>\n",
       "    <tr>\n",
       "      <th>8</th>\n",
       "      <td>Fireplaces</td>\n",
       "      <td>Fireplaces</td>\n",
       "    </tr>\n",
       "    <tr>\n",
       "      <th>9</th>\n",
       "      <td>OpenPorchSF_log</td>\n",
       "      <td>OpenPorchSF</td>\n",
       "    </tr>\n",
       "  </tbody>\n",
       "</table>\n",
       "</div>"
      ],
      "text/plain": [
       "  Top Pearson Features Top XGBoost Features\n",
       "0          OverallQual          OverallQual\n",
       "1            GrLivArea           GarageCars\n",
       "2           GarageCars         KitchenAbvGr\n",
       "3          TotalBsmtSF            GrLivArea\n",
       "4             FullBath             FullBath\n",
       "5            YearBuilt             2ndFlrSF\n",
       "6         YearRemodAdd          TotalBsmtSF\n",
       "7           MasVnrArea             1stFlrSF\n",
       "8           Fireplaces           Fireplaces\n",
       "9      OpenPorchSF_log          OpenPorchSF"
      ]
     },
     "execution_count": 16,
     "metadata": {},
     "output_type": "execute_result"
    }
   ],
   "source": [
    "# Display the two feature sets side-by-side for comparison\n",
    "comparison_df = pd.DataFrame({\n",
    "    \"Top Pearson Features\": pd.Series(top10_corr_features),\n",
    "    \"Top XGBoost Features\": pd.Series(top10_xgb_features)\n",
    "})\n",
    "\n",
    "comparison_df\n"
   ]
  }
 ],
 "metadata": {
  "kernelspec": {
   "display_name": ".venv",
   "language": "python",
   "name": "python3"
  },
  "language_info": {
   "codemirror_mode": {
    "name": "ipython",
    "version": 3
   },
   "file_extension": ".py",
   "mimetype": "text/x-python",
   "name": "python",
   "nbconvert_exporter": "python",
   "pygments_lexer": "ipython3",
   "version": "3.13.5"
  }
 },
 "nbformat": 4,
 "nbformat_minor": 5
}
