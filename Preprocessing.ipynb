{
 "cells": [
  {
   "cell_type": "code",
   "execution_count": 1,
   "id": "5455f676",
   "metadata": {},
   "outputs": [],
   "source": [
    "import pandas as pd\n",
    "train = pd.read_csv(\"train.csv\")  "
   ]
  },
  {
   "cell_type": "code",
   "execution_count": 3,
   "id": "3ceebb69",
   "metadata": {},
   "outputs": [
    {
     "data": {
      "text/html": [
       "<div>\n",
       "<style scoped>\n",
       "    .dataframe tbody tr th:only-of-type {\n",
       "        vertical-align: middle;\n",
       "    }\n",
       "\n",
       "    .dataframe tbody tr th {\n",
       "        vertical-align: top;\n",
       "    }\n",
       "\n",
       "    .dataframe thead th {\n",
       "        text-align: right;\n",
       "    }\n",
       "</style>\n",
       "<table border=\"1\" class=\"dataframe\">\n",
       "  <thead>\n",
       "    <tr style=\"text-align: right;\">\n",
       "      <th></th>\n",
       "      <th>Missing Count</th>\n",
       "      <th>Missing Ratio (%)</th>\n",
       "    </tr>\n",
       "  </thead>\n",
       "  <tbody>\n",
       "    <tr>\n",
       "      <th>PoolQC</th>\n",
       "      <td>1453</td>\n",
       "      <td>99.52</td>\n",
       "    </tr>\n",
       "    <tr>\n",
       "      <th>MiscFeature</th>\n",
       "      <td>1406</td>\n",
       "      <td>96.30</td>\n",
       "    </tr>\n",
       "    <tr>\n",
       "      <th>Alley</th>\n",
       "      <td>1369</td>\n",
       "      <td>93.77</td>\n",
       "    </tr>\n",
       "    <tr>\n",
       "      <th>Fence</th>\n",
       "      <td>1179</td>\n",
       "      <td>80.75</td>\n",
       "    </tr>\n",
       "    <tr>\n",
       "      <th>MasVnrType</th>\n",
       "      <td>872</td>\n",
       "      <td>59.73</td>\n",
       "    </tr>\n",
       "    <tr>\n",
       "      <th>FireplaceQu</th>\n",
       "      <td>690</td>\n",
       "      <td>47.26</td>\n",
       "    </tr>\n",
       "    <tr>\n",
       "      <th>LotFrontage</th>\n",
       "      <td>259</td>\n",
       "      <td>17.74</td>\n",
       "    </tr>\n",
       "    <tr>\n",
       "      <th>GarageType</th>\n",
       "      <td>81</td>\n",
       "      <td>5.55</td>\n",
       "    </tr>\n",
       "    <tr>\n",
       "      <th>GarageYrBlt</th>\n",
       "      <td>81</td>\n",
       "      <td>5.55</td>\n",
       "    </tr>\n",
       "    <tr>\n",
       "      <th>GarageFinish</th>\n",
       "      <td>81</td>\n",
       "      <td>5.55</td>\n",
       "    </tr>\n",
       "    <tr>\n",
       "      <th>GarageQual</th>\n",
       "      <td>81</td>\n",
       "      <td>5.55</td>\n",
       "    </tr>\n",
       "    <tr>\n",
       "      <th>GarageCond</th>\n",
       "      <td>81</td>\n",
       "      <td>5.55</td>\n",
       "    </tr>\n",
       "    <tr>\n",
       "      <th>BsmtExposure</th>\n",
       "      <td>38</td>\n",
       "      <td>2.60</td>\n",
       "    </tr>\n",
       "    <tr>\n",
       "      <th>BsmtFinType2</th>\n",
       "      <td>38</td>\n",
       "      <td>2.60</td>\n",
       "    </tr>\n",
       "    <tr>\n",
       "      <th>BsmtQual</th>\n",
       "      <td>37</td>\n",
       "      <td>2.53</td>\n",
       "    </tr>\n",
       "    <tr>\n",
       "      <th>BsmtCond</th>\n",
       "      <td>37</td>\n",
       "      <td>2.53</td>\n",
       "    </tr>\n",
       "    <tr>\n",
       "      <th>BsmtFinType1</th>\n",
       "      <td>37</td>\n",
       "      <td>2.53</td>\n",
       "    </tr>\n",
       "    <tr>\n",
       "      <th>MasVnrArea</th>\n",
       "      <td>8</td>\n",
       "      <td>0.55</td>\n",
       "    </tr>\n",
       "    <tr>\n",
       "      <th>Electrical</th>\n",
       "      <td>1</td>\n",
       "      <td>0.07</td>\n",
       "    </tr>\n",
       "  </tbody>\n",
       "</table>\n",
       "</div>"
      ],
      "text/plain": [
       "              Missing Count  Missing Ratio (%)\n",
       "PoolQC                 1453              99.52\n",
       "MiscFeature            1406              96.30\n",
       "Alley                  1369              93.77\n",
       "Fence                  1179              80.75\n",
       "MasVnrType              872              59.73\n",
       "FireplaceQu             690              47.26\n",
       "LotFrontage             259              17.74\n",
       "GarageType               81               5.55\n",
       "GarageYrBlt              81               5.55\n",
       "GarageFinish             81               5.55\n",
       "GarageQual               81               5.55\n",
       "GarageCond               81               5.55\n",
       "BsmtExposure             38               2.60\n",
       "BsmtFinType2             38               2.60\n",
       "BsmtQual                 37               2.53\n",
       "BsmtCond                 37               2.53\n",
       "BsmtFinType1             37               2.53\n",
       "MasVnrArea                8               0.55\n",
       "Electrical                1               0.07"
      ]
     },
     "execution_count": 3,
     "metadata": {},
     "output_type": "execute_result"
    }
   ],
   "source": [
    "missing_data = train.isnull().sum()\n",
    "missing_data = missing_data[missing_data > 0].sort_values(ascending=False)\n",
    "missing_ratio = (missing_data / len(train)) * 100\n",
    "missing_overview = pd.DataFrame({\n",
    "    'Missing Count': missing_data,\n",
    "    'Missing Ratio (%)': missing_ratio.round(2)\n",
    "})\n",
    "missing_overview\n"
   ]
  },
  {
   "cell_type": "code",
   "execution_count": 5,
   "id": "fdc7f15d",
   "metadata": {},
   "outputs": [],
   "source": [
    "# Fill high-missing-rate categorical features with 'None'\n",
    "high_missing_cols = [\"PoolQC\", \"MiscFeature\", \"Alley\", \"Fence\",\"MasVnrType\",\"FireplaceQu\"]\n",
    "train[high_missing_cols] = train[high_missing_cols].fillna(\"None\")"
   ]
  },
  {
   "cell_type": "code",
   "execution_count": 8,
   "id": "738549ee",
   "metadata": {},
   "outputs": [
    {
     "name": "stdout",
     "output_type": "stream",
     "text": [
      "  Grouping Column  # of Groups  Avg Group Std Dev  Max Group Std Dev\n",
      "0    Neighborhood           25              17.77              32.75\n",
      "2        MSZoning            5              20.93              23.47\n",
      "1          Street            2              26.81              29.37\n",
      "3       LotConfig            5              27.61              40.52\n"
     ]
    }
   ],
   "source": [
    "\n",
    "# Define candidate columns to group by\n",
    "grouping_candidates = [\"Neighborhood\", \"Street\", \"MSZoning\", \"LotConfig\"]\n",
    "\n",
    "# Create a list to store comparison results\n",
    "comparison = []\n",
    "\n",
    "# Loop over each candidate\n",
    "for col in grouping_candidates:\n",
    "    group_stats = train.groupby(col)[\"LotFrontage\"].std()\n",
    "    avg_std = group_stats.mean()\n",
    "    max_std = group_stats.max()\n",
    "    num_groups = group_stats.shape[0]\n",
    "    \n",
    "    comparison.append({\n",
    "        \"Grouping Column\": col,\n",
    "        \"# of Groups\": num_groups,\n",
    "        \"Avg Group Std Dev\": round(avg_std, 2),\n",
    "        \"Max Group Std Dev\": round(max_std, 2)\n",
    "    })\n",
    "\n",
    "# Convert to DataFrame and sort by Avg Group Std Dev (lower is better)\n",
    "comparison_df = pd.DataFrame(comparison).sort_values(by=\"Avg Group Std Dev\")\n",
    "\n",
    "# Display\n",
    "print(comparison_df)\n"
   ]
  },
  {
   "cell_type": "code",
   "execution_count": null,
   "id": "c6757e70",
   "metadata": {},
   "outputs": [],
   "source": [
    "# check LotFrontage group \n",
    "import matplotlib.pyplot as plt\n",
    "import seaborn as sns\n",
    "\n",
    "plt.figure(figsize=(12, 6))\n",
    "sns.boxplot(x='Neighborhood', y='LotFrontage', data=train)\n",
    "plt.xticks(rotation=90)\n",
    "plt.title('LotFrontage Distribution by Neighborhood')\n",
    "plt.show()\n"
   ]
  },
  {
   "cell_type": "code",
   "execution_count": null,
   "id": "37c1113a",
   "metadata": {},
   "outputs": [],
   "source": [
    "# Fill the median by neighbourhood into LotFrontage \n",
    "# Step 1: Calculate the median LotFrontage per Neighborhood\n",
    "neighborhood_medians = train.groupby(\"Neighborhood\")[\"LotFrontage\"].median()\n",
    "# Step 2: Fill missing LotFrontage values using the group-specific medians\n",
    "train[\"LotFrontage\"] = train.apply(\n",
    "    lambda row: neighborhood_medians[row[\"Neighborhood\"]]\n",
    "    if pd.isnull(row[\"LotFrontage\"]) else row[\"LotFrontage\"],\n",
    "    axis=1\n",
    ")\n"
   ]
  },
  {
   "cell_type": "code",
   "execution_count": 10,
   "id": "5b0e5150",
   "metadata": {},
   "outputs": [],
   "source": [
    "# Add new binary column GarageYrBlt_missing to show the presence or absence of a garage.\n",
    "train[\"GarageYrBlt_missing\"] = train[\"GarageYrBlt\"].isnull().astype(int)\n",
    "#Fill missing values with 0\n",
    "train[\"GarageYrBlt\"] = train[\"GarageYrBlt\"].fillna(0)"
   ]
  },
  {
   "cell_type": "code",
   "execution_count": null,
   "id": "5383fc90",
   "metadata": {},
   "outputs": [],
   "source": [
    "# List of garage-related categorical features with missing values\n",
    "garage_cat_features = [\"GarageType\", \"GarageFinish\", \"GarageQual\", \"GarageCond\"]\n",
    "\n",
    "# Fill missing values with \"None\" to indicate no garage\n",
    "for feature in garage_cat_features:\n",
    "    train[feature] = train[feature].fillna(\"None\")\n"
   ]
  },
  {
   "cell_type": "code",
   "execution_count": 11,
   "id": "be00c9f9",
   "metadata": {},
   "outputs": [],
   "source": [
    "# Step 1: Create missing flag\n",
    "train[\"MasVnrArea_missing\"] = train[\"MasVnrArea\"].isnull().astype(int)\n",
    "# Step 2: Fill missing values with 0\n",
    "train[\"MasVnrArea\"] = train[\"MasVnrArea\"].fillna(0)\n"
   ]
  },
  {
   "cell_type": "code",
   "execution_count": 12,
   "id": "83794e2a",
   "metadata": {},
   "outputs": [],
   "source": [
    "# List of 5 basement-related features (categorical)\n",
    "bsmt_features = ['BsmtQual', 'BsmtCond', 'BsmtExposure', 'BsmtFinType1', 'BsmtFinType2']\n",
    "\n",
    "# Step 1: Check rows where all 5 basement features are missing\n",
    "no_bsmt_mask = train[bsmt_features].isnull().all(axis=1)\n",
    "\n",
    "# Step 2: Fill those rows with \"None\" = clearly no basement\n",
    "train.loc[no_bsmt_mask, bsmt_features] = 'None'\n",
    "\n",
    "# Step 3: For remaining rows, fill individual missing values with most common value (mode)\n",
    "for col in bsmt_features:\n",
    "    mode_val = train[col].mode()[0]\n",
    "    train[col] = train[col].fillna(mode_val)\n"
   ]
  },
  {
   "cell_type": "code",
   "execution_count": 13,
   "id": "d71493f4",
   "metadata": {},
   "outputs": [],
   "source": [
    "# Fill missing Electrical value with the mode\n",
    "mode_val = train[\"Electrical\"].mode()[0]\n",
    "train[\"Electrical\"] = train[\"Electrical\"].fillna(mode_val)\n"
   ]
  },
  {
   "cell_type": "code",
   "execution_count": 14,
   "id": "0067b44d",
   "metadata": {},
   "outputs": [],
   "source": [
    "train.to_csv(\"train_filled.csv\", index=False)"
   ]
  }
 ],
 "metadata": {
  "kernelspec": {
   "display_name": ".venv",
   "language": "python",
   "name": "python3"
  },
  "language_info": {
   "codemirror_mode": {
    "name": "ipython",
    "version": 3
   },
   "file_extension": ".py",
   "mimetype": "text/x-python",
   "name": "python",
   "nbconvert_exporter": "python",
   "pygments_lexer": "ipython3",
   "version": "3.13.5"
  }
 },
 "nbformat": 4,
 "nbformat_minor": 5
}
